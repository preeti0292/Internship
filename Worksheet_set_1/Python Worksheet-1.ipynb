{
 "cells": [
  {
   "cell_type": "code",
   "execution_count": 1,
   "id": "752e94b7",
   "metadata": {},
   "outputs": [
    {
     "name": "stdout",
     "output_type": "stream",
     "text": [
      "Enter a Value 4\n",
      "Factorial of 4 is 24\n"
     ]
    }
   ],
   "source": [
    "#11. Write a python program to find the factorial of a number.\n",
    "\n",
    "#Define function to find factorial of a given number.\n",
    "\n",
    "def factorial(n):\n",
    "    return 1 if (n == 1 or n == 0) else n * factorial(n-1)\n",
    "\n",
    "#Call the function and pass data to return factorial output of a number.    \n",
    "\n",
    "Number = int(input(\"Enter a Value \"))#It will take input from the user\n",
    "\n",
    "print('Factorial of', Number, 'is', factorial(Number))"
   ]
  },
  {
   "cell_type": "code",
   "execution_count": 2,
   "id": "c219ae33",
   "metadata": {},
   "outputs": [
    {
     "name": "stdout",
     "output_type": "stream",
     "text": [
      "Enter a Value 29\n",
      "29 is a Prime Number\n"
     ]
    }
   ],
   "source": [
    "#12. Write a python program to find whether a number is prime or composite.\n",
    "\n",
    "#Capture input from user.\n",
    "\n",
    "num = int(input(\"Enter a Value \"))\n",
    "\n",
    "#Using if function to retuen wether given number is Prime ot Composite.\n",
    "\n",
    "if num > 1:\n",
    "    for i in range(2, num):\n",
    "        if num % i == 0:\n",
    "            print(num, \"is a Composite Number\")\n",
    "            break\n",
    "    else:\n",
    "        print(num, \"is a Prime Number\")\n",
    "\n",
    "#Incase anyone enter 0 or 1 value.\n",
    "\n",
    "elif num == 0 or num == 1:\n",
    "    print(num, \"is not a Prime or a Composite Number \")\n",
    "    \n",
    "else:\n",
    "    print(num, \"is a Prime Number\")"
   ]
  },
  {
   "cell_type": "code",
   "execution_count": 5,
   "id": "14261cb4",
   "metadata": {},
   "outputs": [
    {
     "name": "stdout",
     "output_type": "stream",
     "text": [
      "Enter a string madam\n",
      "Entered string is a Palindrome\n"
     ]
    }
   ],
   "source": [
    "#13. Write a python program to check whether a given string is palindrome or not.\n",
    "\n",
    "#Capture string\n",
    "\n",
    "s = input(\"Enter a string \")\n",
    "\n",
    "#reverse the given string\n",
    "\n",
    "reverse = s[::-1]\n",
    "\n",
    "#if function to return if the string is Palindrome or not\n",
    "\n",
    "if reverse == s:\n",
    "    print(\"Entered string is a Palindrome\")\n",
    "else:\n",
    "    print(\"Entered string is not a Palindrome\")"
   ]
  },
  {
   "cell_type": "code",
   "execution_count": 6,
   "id": "212fc946",
   "metadata": {},
   "outputs": [
    {
     "name": "stdout",
     "output_type": "stream",
     "text": [
      "Enter Opposite Side Value 8\n",
      "Enter Adjecent Side Value 5\n",
      "The Legnth of Hypotenuse is: 9.433981132056603\n"
     ]
    }
   ],
   "source": [
    "#14. Write a Python program to get the third side of right-angled triangle from two given sides.\n",
    "\n",
    "from math import sqrt\n",
    "\n",
    "a = float(input(\"Enter Opposite Side Value \"))\n",
    "b = float(input(\"Enter Adjecent Side Value \"))\n",
    "c = sqrt(a ** 2 + b ** 2)\n",
    "\n",
    "print(\"The Legnth of Hypotenuse is:\", c)"
   ]
  },
  {
   "cell_type": "code",
   "execution_count": 11,
   "id": "e1ad9eb6",
   "metadata": {},
   "outputs": [
    {
     "name": "stdout",
     "output_type": "stream",
     "text": [
      "Enter a string preeti\n",
      "Frequecy of all the Characters in given string:\n",
      " Counter({'e': 2, 'p': 1, 'r': 1, 't': 1, 'i': 1})\n"
     ]
    }
   ],
   "source": [
    "#15. Write a python program to print the frequency of each of the characters present in a given string.\n",
    "\n",
    "from collections import Counter\n",
    "\n",
    "#User input string\n",
    "\n",
    "a = input(\"Enter a string \")\n",
    "\n",
    "#Using Counter() to get count of each element in the given string\n",
    "\n",
    "freq = Counter(a)\n",
    "\n",
    "#Printing the frequency of each of the characters present in a given string.\n",
    "\n",
    "print(\"Frequecy of all the Characters in given string:\\n\", freq)\n",
    "\n"
   ]
  },
  {
   "cell_type": "code",
   "execution_count": null,
   "id": "4c7f8045",
   "metadata": {},
   "outputs": [],
   "source": []
  }
 ],
 "metadata": {
  "kernelspec": {
   "display_name": "Python 3 (ipykernel)",
   "language": "python",
   "name": "python3"
  },
  "language_info": {
   "codemirror_mode": {
    "name": "ipython",
    "version": 3
   },
   "file_extension": ".py",
   "mimetype": "text/x-python",
   "name": "python",
   "nbconvert_exporter": "python",
   "pygments_lexer": "ipython3",
   "version": "3.9.7"
  }
 },
 "nbformat": 4,
 "nbformat_minor": 5
}
